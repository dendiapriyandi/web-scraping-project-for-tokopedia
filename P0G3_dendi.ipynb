{
 "cells": [
  {
   "cell_type": "markdown",
   "metadata": {},
   "source": [
    "# PREFACE"
   ]
  },
  {
   "cell_type": "markdown",
   "metadata": {},
   "source": [
    "# A. Web Scraping"
   ]
  },
  {
   "cell_type": "code",
   "execution_count": 110,
   "metadata": {},
   "outputs": [],
   "source": [
    "# Import library\n",
    "from bs4 import BeautifulSoup  # Mengimpor BeautifulSoup dari library bs4 untuk parsing HTML\n",
    "from selenium import webdriver  # Mengimpor webdriver dari library selenium untuk mengotomatisasi web browser\n",
    "import pandas as pd  # Mengimpor pandas untuk manipulasi dan analisis data"
   ]
  },
  {
   "cell_type": "code",
   "execution_count": 111,
   "metadata": {},
   "outputs": [],
   "source": [
    "# # Inisialisasi webdriver\n",
    "# driver = webdriver.Chrome()\n",
    "\n",
    "# # Variabel kosong untuk menyimpan data\n",
    "# product = []\n",
    "# price = []\n",
    "# seller = []\n",
    "# city = []\n",
    "# quantity = []\n",
    "# rating = []\n",
    "\n",
    "# # Inisialisasi webdriver (duplikasi, bisa dihapus jika tidak perlu)\n",
    "# driver = webdriver.Chrome()\n",
    "\n",
    "# # Loop untuk membuka halaman dari 1 hingga 10\n",
    "# for i in range(1, 11):\n",
    "#     # Membuat URL dengan nomor halaman dinamis\n",
    "#     url = \"https://www.tokopedia.com/search?navsource=&page={}&q=seblak&srp_component_id=02.01.00.00&srp_page_id=&srp_page_title=&st=\".format(i)\n",
    "    \n",
    "#     # Membuka URL menggunakan webdriver\n",
    "#     driver.get(url)\n",
    "    \n",
    "#     # Menunggu 1 detik agar halaman termuat sepenuhnya\n",
    "#     time.sleep(1)\n",
    "    \n",
    "#     # Scroll halaman sebanyak 37 kali dengan jarak 250 piksel\n",
    "#     for _ in range(37):\n",
    "#         # Menjalankan skrip JavaScript untuk scroll halaman\n",
    "#         driver.execute_script(\"window.scrollBy(0,250)\")\n",
    "#         # Menunggu 1 detik setiap kali scroll\n",
    "#         time.sleep(1)\n",
    "    \n",
    "#     # Mendapatkan sumber HTML dari halaman yang termuat\n",
    "#     html = driver.page_source\n",
    "    \n",
    "#     # Menggunakan BeautifulSoup untuk mem-parsing HTML\n",
    "#     soup = BeautifulSoup(html, \"html.parser\")\n",
    "    \n",
    "#     # Mendapatkan teks produk dari elemen dengan kelas yang sesuai dan menambahkannya ke daftar produk\n",
    "#     product = product + [ product.get_text() for product in soup.find_all( 'div', {\"class\":\"prd_link-product-name css-3um8ox\"} ) ]\n",
    "    \n",
    "#     # Mendapatkan teks harga dari elemen dengan kelas yang sesuai dan menambahkannya ke daftar harga\n",
    "#     price += [ price.get_text() for price in soup.find_all( 'div', {\"class\":\"prd_link-product-price css-h66vau\"} ) ]\n",
    "    \n",
    "#     # Mendapatkan teks penjual dari elemen dengan kelas yang sesuai dan menambahkannya ke daftar penjual\n",
    "#     seller += [ seller.get_text() for seller in soup.find_all( 'span', {\"class\":\"prd_link-shop-name css-1kdc32b flip\"} ) ]\n",
    "    \n",
    "#     # Mendapatkan teks kota dari elemen dengan kelas yang sesuai dan menambahkannya ke daftar kota\n",
    "#     city += [ city.get_text() for city in soup.find_all( 'span', {\"class\":\"prd_link-shop-loc css-1kdc32b flip\"} ) ]\n",
    "    \n",
    "#     # Mendapatkan teks kuantitas dari elemen dengan kelas yang sesuai dan menambahkannya ke daftar kuantitas\n",
    "#     quantity += [ seller.get_text() for seller in soup.find_all( 'span', {\"class\":\"prd_label-integrity css-1sgek4h\"} ) ]\n",
    "    \n",
    "#     # Mendapatkan teks rating dari elemen dengan kelas yang sesuai dan menambahkannya ke daftar rating\n",
    "#     rating += [ rating.get_text() for rating in soup.find_all( 'span', {\"class\":\"prd_rating-average-text css-t70v7i\"} ) ]\n"
   ]
  },
  {
   "cell_type": "code",
   "execution_count": 112,
   "metadata": {},
   "outputs": [],
   "source": [
    "# # Mengimpor Pandas untuk pengolahan data\n",
    "# import pandas as pd\n",
    "\n",
    "# # Membuat DataFrame kosong\n",
    "# dxndx = pd.DataFrame()\n",
    "\n",
    "# # Menambahkan kolom 'product' ke DataFrame dan mengisinya dengan data dari daftar 'product'\n",
    "# dxndx['product'] = product\n",
    "\n",
    "# # Menambahkan kolom 'price' ke DataFrame dan mengisinya dengan data dari daftar 'price'\n",
    "# dxndx['price'] = price\n",
    "\n",
    "# # Menambahkan kolom 'seller' ke DataFrame dan mengisinya dengan data dari daftar 'seller'\n",
    "# dxndx['seller'] = pd.Series(seller)\n",
    "\n",
    "# # Menambahkan kolom 'city' ke DataFrame dan mengisinya dengan data dari daftar 'city'\n",
    "# dxndx['city'] = pd.Series(city)\n",
    "\n",
    "# # Menambahkan kolom 'quantity' ke DataFrame dan mengisinya dengan data dari daftar 'quantity'\n",
    "# dxndx['quantity'] = pd.Series(quantity)\n",
    "\n",
    "# # Menambahkan kolom 'rating' ke DataFrame dan mengisinya dengan data dari daftar 'rating'\n",
    "# dxndx['rating'] = pd.Series(rating)\n",
    "\n",
    "# # Menyimpan DataFrame dxndx ke dalam file CSV dengan nama 'seblak_tokped.csv' tanpa menyertakan indeks\n",
    "# dxndx.to_csv('seblak_tokped.csv', index=False)\n",
    "\n",
    "# # Menampilkan DataFrame yang telah dibuat dan diisi dengan data\n",
    "# dxndx"
   ]
  },
  {
   "cell_type": "markdown",
   "metadata": {},
   "source": [
    "syntax berhasil dijalankan dan kolom-kolom yang diperlukan telah berhasil dibuat, setelah itu hasil scraping disimpan dalam bentuk .csv dengan nama file 'seblak_tokped.csv' agar tidak perlu dilakukan scraping ulang dan dilakukan comment out agar tidak terjalankan ulang"
   ]
  },
  {
   "cell_type": "code",
   "execution_count": 113,
   "metadata": {},
   "outputs": [
    {
     "data": {
      "text/html": [
       "<div>\n",
       "<style scoped>\n",
       "    .dataframe tbody tr th:only-of-type {\n",
       "        vertical-align: middle;\n",
       "    }\n",
       "\n",
       "    .dataframe tbody tr th {\n",
       "        vertical-align: top;\n",
       "    }\n",
       "\n",
       "    .dataframe thead th {\n",
       "        text-align: right;\n",
       "    }\n",
       "</style>\n",
       "<table border=\"1\" class=\"dataframe\">\n",
       "  <thead>\n",
       "    <tr style=\"text-align: right;\">\n",
       "      <th></th>\n",
       "      <th>product</th>\n",
       "      <th>price</th>\n",
       "      <th>seller</th>\n",
       "      <th>city</th>\n",
       "      <th>quantity</th>\n",
       "      <th>rating</th>\n",
       "    </tr>\n",
       "  </thead>\n",
       "  <tbody>\n",
       "    <tr>\n",
       "      <th>0</th>\n",
       "      <td>Kylafood Paket (3 Seblak Original 2 Batagor ku...</td>\n",
       "      <td>Rp105.705</td>\n",
       "      <td>Sajodo Snack &amp; Food</td>\n",
       "      <td>Tasikmalaya</td>\n",
       "      <td>3 rb+ terjual</td>\n",
       "      <td>4.9</td>\n",
       "    </tr>\n",
       "    <tr>\n",
       "      <th>1</th>\n",
       "      <td>Kylafood Seblak Rempah Authentik</td>\n",
       "      <td>Rp10.320</td>\n",
       "      <td>Foodstocks</td>\n",
       "      <td>Jakarta Selatan</td>\n",
       "      <td>1 rb+ terjual</td>\n",
       "      <td>4.9</td>\n",
       "    </tr>\n",
       "    <tr>\n",
       "      <th>2</th>\n",
       "      <td>Kylafood Seblak karuhun</td>\n",
       "      <td>Rp12.825</td>\n",
       "      <td>Central Seblak Nusantara</td>\n",
       "      <td>Tangerang Selatan</td>\n",
       "      <td>4 rb+ terjual</td>\n",
       "      <td>4.8</td>\n",
       "    </tr>\n",
       "    <tr>\n",
       "      <th>3</th>\n",
       "      <td>SEBLAK INSTAN SAJODO SNACK</td>\n",
       "      <td>Rp22.500</td>\n",
       "      <td>Sajodo Snack &amp; Food</td>\n",
       "      <td>Tasikmalaya</td>\n",
       "      <td>100+ terjual</td>\n",
       "      <td>4.7</td>\n",
       "    </tr>\n",
       "    <tr>\n",
       "      <th>4</th>\n",
       "      <td>Seblak Rafael/Seblak Coet Instan Halal</td>\n",
       "      <td>Rp26.600</td>\n",
       "      <td>Anggris store</td>\n",
       "      <td>Kab. Bogor</td>\n",
       "      <td>100+ terjual</td>\n",
       "      <td>5.0</td>\n",
       "    </tr>\n",
       "    <tr>\n",
       "      <th>...</th>\n",
       "      <td>...</td>\n",
       "      <td>...</td>\n",
       "      <td>...</td>\n",
       "      <td>...</td>\n",
       "      <td>...</td>\n",
       "      <td>...</td>\n",
       "    </tr>\n",
       "    <tr>\n",
       "      <th>1098</th>\n",
       "      <td>Seblak pedas kerupuk pedas kiloan 1 kg</td>\n",
       "      <td>Rp34.000</td>\n",
       "      <td>NaN</td>\n",
       "      <td>NaN</td>\n",
       "      <td>NaN</td>\n",
       "      <td>NaN</td>\n",
       "    </tr>\n",
       "    <tr>\n",
       "      <th>1099</th>\n",
       "      <td>Kerupuk Seblak Rafael Pedas / Seblak Mawar Ped...</td>\n",
       "      <td>Rp16.000</td>\n",
       "      <td>NaN</td>\n",
       "      <td>NaN</td>\n",
       "      <td>NaN</td>\n",
       "      <td>NaN</td>\n",
       "    </tr>\n",
       "    <tr>\n",
       "      <th>1100</th>\n",
       "      <td>KERUPUK SEBLAK MINI KENCUR JABLAY BANTET PEDAS...</td>\n",
       "      <td>Rp23.000</td>\n",
       "      <td>NaN</td>\n",
       "      <td>NaN</td>\n",
       "      <td>NaN</td>\n",
       "      <td>NaN</td>\n",
       "    </tr>\n",
       "    <tr>\n",
       "      <th>1101</th>\n",
       "      <td>Seblak Instan Pedas Home Made</td>\n",
       "      <td>Rp3.500</td>\n",
       "      <td>NaN</td>\n",
       "      <td>NaN</td>\n",
       "      <td>NaN</td>\n",
       "      <td>NaN</td>\n",
       "    </tr>\n",
       "    <tr>\n",
       "      <th>1102</th>\n",
       "      <td>Krupuk seblak mawar rafael pedas 500gr</td>\n",
       "      <td>Rp23.500</td>\n",
       "      <td>NaN</td>\n",
       "      <td>NaN</td>\n",
       "      <td>NaN</td>\n",
       "      <td>NaN</td>\n",
       "    </tr>\n",
       "  </tbody>\n",
       "</table>\n",
       "<p>1103 rows × 6 columns</p>\n",
       "</div>"
      ],
      "text/plain": [
       "                                                product      price  \\\n",
       "0     Kylafood Paket (3 Seblak Original 2 Batagor ku...  Rp105.705   \n",
       "1                      Kylafood Seblak Rempah Authentik   Rp10.320   \n",
       "2                               Kylafood Seblak karuhun   Rp12.825   \n",
       "3                            SEBLAK INSTAN SAJODO SNACK   Rp22.500   \n",
       "4                Seblak Rafael/Seblak Coet Instan Halal   Rp26.600   \n",
       "...                                                 ...        ...   \n",
       "1098             Seblak pedas kerupuk pedas kiloan 1 kg   Rp34.000   \n",
       "1099  Kerupuk Seblak Rafael Pedas / Seblak Mawar Ped...   Rp16.000   \n",
       "1100  KERUPUK SEBLAK MINI KENCUR JABLAY BANTET PEDAS...   Rp23.000   \n",
       "1101                      Seblak Instan Pedas Home Made    Rp3.500   \n",
       "1102             Krupuk seblak mawar rafael pedas 500gr   Rp23.500   \n",
       "\n",
       "                        seller               city       quantity  rating  \n",
       "0          Sajodo Snack & Food        Tasikmalaya  3 rb+ terjual     4.9  \n",
       "1                   Foodstocks    Jakarta Selatan  1 rb+ terjual     4.9  \n",
       "2     Central Seblak Nusantara  Tangerang Selatan  4 rb+ terjual     4.8  \n",
       "3          Sajodo Snack & Food        Tasikmalaya   100+ terjual     4.7  \n",
       "4                Anggris store         Kab. Bogor   100+ terjual     5.0  \n",
       "...                        ...                ...            ...     ...  \n",
       "1098                       NaN                NaN            NaN     NaN  \n",
       "1099                       NaN                NaN            NaN     NaN  \n",
       "1100                       NaN                NaN            NaN     NaN  \n",
       "1101                       NaN                NaN            NaN     NaN  \n",
       "1102                       NaN                NaN            NaN     NaN  \n",
       "\n",
       "[1103 rows x 6 columns]"
      ]
     },
     "execution_count": 113,
     "metadata": {},
     "output_type": "execute_result"
    }
   ],
   "source": [
    "# Memanggil DataFrame 'seblak_tokped'.csv yang telah di-scraping\n",
    "dxndx = pd.read_csv('seblak_tokped.csv')\n",
    "\n",
    "# Memanggil DataFrame\n",
    "dxndx"
   ]
  },
  {
   "cell_type": "markdown",
   "metadata": {},
   "source": [
    "DataFrame `seblak_tokped` berhasil dibaca. Setelah dianalisa, terdapat isi data pada kolom-kolom yang harus dilakukan proses data cleaning"
   ]
  },
  {
   "cell_type": "markdown",
   "metadata": {},
   "source": [
    "# B. Data Preparation"
   ]
  },
  {
   "cell_type": "markdown",
   "metadata": {},
   "source": [
    "## Simple Exploration"
   ]
  },
  {
   "cell_type": "markdown",
   "metadata": {},
   "source": [
    "- menampilkan beberapa baris data, tulis insight\n",
    "- informasi rangkuman data\n",
    "- cek missing values"
   ]
  },
  {
   "cell_type": "code",
   "execution_count": 114,
   "metadata": {},
   "outputs": [
    {
     "data": {
      "text/plain": [
       "(1103, 6)"
      ]
     },
     "execution_count": 114,
     "metadata": {},
     "output_type": "execute_result"
    }
   ],
   "source": [
    "# Mengecek jumlah baris dan kolom pada DataFrame\n",
    "dxndx.shape"
   ]
  },
  {
   "cell_type": "markdown",
   "metadata": {},
   "source": [
    "- Jumlah baris dalam DataFrame: 1103\n",
    "- Jumlah kolom dalam DataFrame: 6"
   ]
  },
  {
   "cell_type": "code",
   "execution_count": 115,
   "metadata": {},
   "outputs": [
    {
     "name": "stdout",
     "output_type": "stream",
     "text": [
      "<class 'pandas.core.frame.DataFrame'>\n",
      "RangeIndex: 1103 entries, 0 to 1102\n",
      "Data columns (total 6 columns):\n",
      " #   Column    Non-Null Count  Dtype  \n",
      "---  ------    --------------  -----  \n",
      " 0   product   1103 non-null   object \n",
      " 1   price     1103 non-null   object \n",
      " 2   seller    1090 non-null   object \n",
      " 3   city      1090 non-null   object \n",
      " 4   quantity  1080 non-null   object \n",
      " 5   rating    1052 non-null   float64\n",
      "dtypes: float64(1), object(5)\n",
      "memory usage: 51.8+ KB\n"
     ]
    }
   ],
   "source": [
    "# Mencari tahu informasi umum pada data frame\n",
    "dxndx.info()"
   ]
  },
  {
   "cell_type": "markdown",
   "metadata": {},
   "source": [
    "melihat jumlah non-null values, dapat diketahui bahwa pada kolom `seller`, `city`, `quantity`, dan `rating` terdapat value yang kosong"
   ]
  },
  {
   "cell_type": "code",
   "execution_count": 116,
   "metadata": {},
   "outputs": [
    {
     "data": {
      "text/plain": [
       "product      0\n",
       "price        0\n",
       "seller      13\n",
       "city        13\n",
       "quantity    23\n",
       "rating      51\n",
       "dtype: int64"
      ]
     },
     "execution_count": 116,
     "metadata": {},
     "output_type": "execute_result"
    }
   ],
   "source": [
    "# Mengecek banyak missing values pada masing-masing kolom\n",
    "dxndx.isnull().sum()"
   ]
  },
  {
   "cell_type": "markdown",
   "metadata": {},
   "source": [
    "setelah dilakukan pengecekan, dapat dilihat pada tabel diatas banyak non-null values pada masing-masing kolom"
   ]
  },
  {
   "cell_type": "code",
   "execution_count": 117,
   "metadata": {},
   "outputs": [
    {
     "data": {
      "text/html": [
       "<div>\n",
       "<style scoped>\n",
       "    .dataframe tbody tr th:only-of-type {\n",
       "        vertical-align: middle;\n",
       "    }\n",
       "\n",
       "    .dataframe tbody tr th {\n",
       "        vertical-align: top;\n",
       "    }\n",
       "\n",
       "    .dataframe thead th {\n",
       "        text-align: right;\n",
       "    }\n",
       "</style>\n",
       "<table border=\"1\" class=\"dataframe\">\n",
       "  <thead>\n",
       "    <tr style=\"text-align: right;\">\n",
       "      <th></th>\n",
       "      <th>count</th>\n",
       "      <th>mean</th>\n",
       "      <th>std</th>\n",
       "      <th>min</th>\n",
       "      <th>25%</th>\n",
       "      <th>50%</th>\n",
       "      <th>75%</th>\n",
       "      <th>max</th>\n",
       "    </tr>\n",
       "  </thead>\n",
       "  <tbody>\n",
       "    <tr>\n",
       "      <th>rating</th>\n",
       "      <td>1052.0</td>\n",
       "      <td>4.87576</td>\n",
       "      <td>0.139429</td>\n",
       "      <td>4.0</td>\n",
       "      <td>4.8</td>\n",
       "      <td>4.9</td>\n",
       "      <td>5.0</td>\n",
       "      <td>5.0</td>\n",
       "    </tr>\n",
       "  </tbody>\n",
       "</table>\n",
       "</div>"
      ],
      "text/plain": [
       "         count     mean       std  min  25%  50%  75%  max\n",
       "rating  1052.0  4.87576  0.139429  4.0  4.8  4.9  5.0  5.0"
      ]
     },
     "execution_count": 117,
     "metadata": {},
     "output_type": "execute_result"
    }
   ],
   "source": [
    "# Ringkasan statistik deskriptif (hanya yang tipe datanya numeric)\n",
    "dxndx.describe().T"
   ]
  },
  {
   "cell_type": "markdown",
   "metadata": {},
   "source": [
    "distribusi nilai pada kolom `rating` pada DataFrame"
   ]
  },
  {
   "cell_type": "code",
   "execution_count": 118,
   "metadata": {},
   "outputs": [
    {
     "data": {
      "text/plain": [
       "product      object\n",
       "price        object\n",
       "seller       object\n",
       "city         object\n",
       "quantity     object\n",
       "rating      float64\n",
       "dtype: object"
      ]
     },
     "execution_count": 118,
     "metadata": {},
     "output_type": "execute_result"
    }
   ],
   "source": [
    "# Mengecek tipe data pada DataFrame \n",
    "dxndx.dtypes"
   ]
  },
  {
   "cell_type": "markdown",
   "metadata": {},
   "source": [
    "dilakukan juga pengecekan tipe data pada DataFrame, terdapat kolom yang tipe datanya tidak sesuai/harus dirubah, yaitu:\n",
    "- price seharusnya 'float64'\n",
    "- quantity seharusnya 'int64'"
   ]
  },
  {
   "cell_type": "code",
   "execution_count": 119,
   "metadata": {},
   "outputs": [
    {
     "name": "stdout",
     "output_type": "stream",
     "text": [
      "===============================\n",
      "Terdapat duplikasi sebanyak: 11\n",
      "===============================\n"
     ]
    }
   ],
   "source": [
    "# Mengecek duplikasi pada DataFrame\n",
    "dxndx.duplicated().sum()\n",
    "print('='*31)\n",
    "print('Terdapat duplikasi sebanyak:', dxndx.duplicated().sum())\n",
    "print('='*31)"
   ]
  },
  {
   "cell_type": "markdown",
   "metadata": {},
   "source": [
    "terdapat 11 duplikasi pada DataFrame yang harus dihapus agar tingkat ambiguitas data rendah dan hasil analisa bisa lebih akurat "
   ]
  },
  {
   "cell_type": "markdown",
   "metadata": {},
   "source": [
    "## Data Cleaning"
   ]
  },
  {
   "cell_type": "markdown",
   "metadata": {},
   "source": [
    "## Handle missing value"
   ]
  },
  {
   "cell_type": "code",
   "execution_count": 120,
   "metadata": {},
   "outputs": [
    {
     "data": {
      "text/html": [
       "<div>\n",
       "<style scoped>\n",
       "    .dataframe tbody tr th:only-of-type {\n",
       "        vertical-align: middle;\n",
       "    }\n",
       "\n",
       "    .dataframe tbody tr th {\n",
       "        vertical-align: top;\n",
       "    }\n",
       "\n",
       "    .dataframe thead th {\n",
       "        text-align: right;\n",
       "    }\n",
       "</style>\n",
       "<table border=\"1\" class=\"dataframe\">\n",
       "  <thead>\n",
       "    <tr style=\"text-align: right;\">\n",
       "      <th></th>\n",
       "      <th>product</th>\n",
       "      <th>price</th>\n",
       "      <th>seller</th>\n",
       "      <th>city</th>\n",
       "      <th>quantity</th>\n",
       "      <th>rating</th>\n",
       "    </tr>\n",
       "  </thead>\n",
       "  <tbody>\n",
       "    <tr>\n",
       "      <th>1047</th>\n",
       "      <td>Muria Snack Seblak Stick Cabe Merah x 10pcs (B...</td>\n",
       "      <td>Rp55.000</td>\n",
       "      <td>ngemildotcom</td>\n",
       "      <td>Depok</td>\n",
       "      <td>250+ terjual</td>\n",
       "      <td>4.7</td>\n",
       "    </tr>\n",
       "    <tr>\n",
       "      <th>1048</th>\n",
       "      <td>seblak kering / seblak kerupuk krupuk putih ba...</td>\n",
       "      <td>Rp7.000</td>\n",
       "      <td>Distributor Cuanki dan Seblak</td>\n",
       "      <td>Kab. Bekasi</td>\n",
       "      <td>12 terjual</td>\n",
       "      <td>4.9</td>\n",
       "    </tr>\n",
       "    <tr>\n",
       "      <th>1049</th>\n",
       "      <td>Kerupuk Kepang Taraje isi 250g Bahan Seblak by...</td>\n",
       "      <td>Rp6.499</td>\n",
       "      <td>yohangunawan94</td>\n",
       "      <td>Bandung</td>\n",
       "      <td>100+ terjual</td>\n",
       "      <td>4.9</td>\n",
       "    </tr>\n",
       "    <tr>\n",
       "      <th>1050</th>\n",
       "      <td>Kerupuk Seblak Mawar Kribo Pedas Daun Jeruk 1.8kg</td>\n",
       "      <td>Rp70.000</td>\n",
       "      <td>mak_cudot</td>\n",
       "      <td>Jakarta Utara</td>\n",
       "      <td>2 terjual</td>\n",
       "      <td>4.9</td>\n",
       "    </tr>\n",
       "    <tr>\n",
       "      <th>1051</th>\n",
       "      <td>Kerupuk Seblak Pedas 100 Gram, Kerupuk Seblak ...</td>\n",
       "      <td>Rp22.688</td>\n",
       "      <td>baksorusukjossofficial</td>\n",
       "      <td>Bekasi</td>\n",
       "      <td>8 terjual</td>\n",
       "      <td>4.9</td>\n",
       "    </tr>\n",
       "  </tbody>\n",
       "</table>\n",
       "</div>"
      ],
      "text/plain": [
       "                                                product     price  \\\n",
       "1047  Muria Snack Seblak Stick Cabe Merah x 10pcs (B...  Rp55.000   \n",
       "1048  seblak kering / seblak kerupuk krupuk putih ba...   Rp7.000   \n",
       "1049  Kerupuk Kepang Taraje isi 250g Bahan Seblak by...   Rp6.499   \n",
       "1050  Kerupuk Seblak Mawar Kribo Pedas Daun Jeruk 1.8kg  Rp70.000   \n",
       "1051  Kerupuk Seblak Pedas 100 Gram, Kerupuk Seblak ...  Rp22.688   \n",
       "\n",
       "                             seller           city      quantity  rating  \n",
       "1047                   ngemildotcom          Depok  250+ terjual     4.7  \n",
       "1048  Distributor Cuanki dan Seblak    Kab. Bekasi    12 terjual     4.9  \n",
       "1049                 yohangunawan94        Bandung  100+ terjual     4.9  \n",
       "1050                      mak_cudot  Jakarta Utara     2 terjual     4.9  \n",
       "1051         baksorusukjossofficial         Bekasi     8 terjual     4.9  "
      ]
     },
     "execution_count": 120,
     "metadata": {},
     "output_type": "execute_result"
    }
   ],
   "source": [
    "# Menghapus DataFrame yang mengandung 'NaN'\n",
    "dxndx = dxndx.dropna()\n",
    "\n",
    "# Memanggil DataFrame\n",
    "dxndx.tail()"
   ]
  },
  {
   "cell_type": "markdown",
   "metadata": {},
   "source": [
    "Data pada kolom `seller`, `city`, `quantity`, dan `rating` yang mengandung 'NaN' telah berhasil dihapus"
   ]
  },
  {
   "cell_type": "code",
   "execution_count": 121,
   "metadata": {},
   "outputs": [
    {
     "name": "stdout",
     "output_type": "stream",
     "text": [
      "===============================\n",
      "Terdapat duplikasi sebanyak: 0\n",
      "===============================\n"
     ]
    }
   ],
   "source": [
    "# Menghapus duplikasi yang terdapat pada DataFrame\n",
    "dxndx = dxndx.drop_duplicates()\n",
    "\n",
    "# Mengecek duplikasi pada DataFrame\n",
    "dxndx.duplicated().sum()\n",
    "print('='*31)\n",
    "print('Terdapat duplikasi sebanyak:', dxndx.duplicated().sum())\n",
    "print('='*31)"
   ]
  },
  {
   "cell_type": "markdown",
   "metadata": {},
   "source": [
    "Duplikasi pada DataFrame telah berhasil dihapus atau '0'"
   ]
  },
  {
   "cell_type": "markdown",
   "metadata": {},
   "source": [
    "## Mengubah konsistensi data"
   ]
  },
  {
   "cell_type": "code",
   "execution_count": 122,
   "metadata": {},
   "outputs": [
    {
     "data": {
      "text/html": [
       "<div>\n",
       "<style scoped>\n",
       "    .dataframe tbody tr th:only-of-type {\n",
       "        vertical-align: middle;\n",
       "    }\n",
       "\n",
       "    .dataframe tbody tr th {\n",
       "        vertical-align: top;\n",
       "    }\n",
       "\n",
       "    .dataframe thead th {\n",
       "        text-align: right;\n",
       "    }\n",
       "</style>\n",
       "<table border=\"1\" class=\"dataframe\">\n",
       "  <thead>\n",
       "    <tr style=\"text-align: right;\">\n",
       "      <th></th>\n",
       "      <th>product</th>\n",
       "      <th>price</th>\n",
       "      <th>seller</th>\n",
       "      <th>city</th>\n",
       "      <th>quantity</th>\n",
       "      <th>rating</th>\n",
       "    </tr>\n",
       "  </thead>\n",
       "  <tbody>\n",
       "    <tr>\n",
       "      <th>0</th>\n",
       "      <td>Kylafood Paket (3 Seblak Original 2 Batagor ku...</td>\n",
       "      <td>105705</td>\n",
       "      <td>Sajodo Snack &amp; Food</td>\n",
       "      <td>Tasikmalaya</td>\n",
       "      <td>3000</td>\n",
       "      <td>4.9</td>\n",
       "    </tr>\n",
       "    <tr>\n",
       "      <th>1</th>\n",
       "      <td>Kylafood Seblak Rempah Authentik</td>\n",
       "      <td>10320</td>\n",
       "      <td>Foodstocks</td>\n",
       "      <td>Jakarta Selatan</td>\n",
       "      <td>1000</td>\n",
       "      <td>4.9</td>\n",
       "    </tr>\n",
       "    <tr>\n",
       "      <th>2</th>\n",
       "      <td>Kylafood Seblak karuhun</td>\n",
       "      <td>12825</td>\n",
       "      <td>Central Seblak Nusantara</td>\n",
       "      <td>Tangerang Selatan</td>\n",
       "      <td>4000</td>\n",
       "      <td>4.8</td>\n",
       "    </tr>\n",
       "    <tr>\n",
       "      <th>3</th>\n",
       "      <td>SEBLAK INSTAN SAJODO SNACK</td>\n",
       "      <td>22500</td>\n",
       "      <td>Sajodo Snack &amp; Food</td>\n",
       "      <td>Tasikmalaya</td>\n",
       "      <td>100</td>\n",
       "      <td>4.7</td>\n",
       "    </tr>\n",
       "    <tr>\n",
       "      <th>4</th>\n",
       "      <td>Seblak Rafael/Seblak Coet Instan Halal</td>\n",
       "      <td>26600</td>\n",
       "      <td>Anggris store</td>\n",
       "      <td>Kab. Bogor</td>\n",
       "      <td>100</td>\n",
       "      <td>5.0</td>\n",
       "    </tr>\n",
       "  </tbody>\n",
       "</table>\n",
       "</div>"
      ],
      "text/plain": [
       "                                             product   price  \\\n",
       "0  Kylafood Paket (3 Seblak Original 2 Batagor ku...  105705   \n",
       "1                   Kylafood Seblak Rempah Authentik   10320   \n",
       "2                            Kylafood Seblak karuhun   12825   \n",
       "3                         SEBLAK INSTAN SAJODO SNACK   22500   \n",
       "4             Seblak Rafael/Seblak Coet Instan Halal   26600   \n",
       "\n",
       "                     seller               city quantity  rating  \n",
       "0       Sajodo Snack & Food        Tasikmalaya     3000     4.9  \n",
       "1                Foodstocks    Jakarta Selatan     1000     4.9  \n",
       "2  Central Seblak Nusantara  Tangerang Selatan     4000     4.8  \n",
       "3       Sajodo Snack & Food        Tasikmalaya      100     4.7  \n",
       "4             Anggris store         Kab. Bogor      100     5.0  "
      ]
     },
     "execution_count": 122,
     "metadata": {},
     "output_type": "execute_result"
    }
   ],
   "source": [
    "# Menghilangkan simbol \"Rp\" dan menghilangkan simbol \".\" pada kolom \"price\"\n",
    "dxndx['price'] = (dxndx['price']) \\\n",
    "                .str.replace('Rp', '') \\\n",
    "                .str.replace('.', '') \\\n",
    "                .str.replace(' ', '')\n",
    "\n",
    "# Mengganti simbol 'rb' dengan '000',juga menghapus '+', 'terjual' dan whitespace pada kolom `quantity`\n",
    "dxndx['quantity'] = (dxndx['quantity']) \\\n",
    "                    .str.replace('rb', '000') \\\n",
    "                    .str.replace('+', '') \\\n",
    "                    .str.replace('terjual', '') \\\n",
    "                    .str.replace(' ', '')\n",
    "\n",
    "# Memanggil DataFrame hanya 5 teratas\n",
    "dxndx.head()"
   ]
  },
  {
   "cell_type": "markdown",
   "metadata": {},
   "source": [
    "syntax berhasil dijalankan, simbol dan whitespace berhasil terhapus/diganti"
   ]
  },
  {
   "cell_type": "code",
   "execution_count": 123,
   "metadata": {},
   "outputs": [
    {
     "data": {
      "text/html": [
       "<div>\n",
       "<style scoped>\n",
       "    .dataframe tbody tr th:only-of-type {\n",
       "        vertical-align: middle;\n",
       "    }\n",
       "\n",
       "    .dataframe tbody tr th {\n",
       "        vertical-align: top;\n",
       "    }\n",
       "\n",
       "    .dataframe thead th {\n",
       "        text-align: right;\n",
       "    }\n",
       "</style>\n",
       "<table border=\"1\" class=\"dataframe\">\n",
       "  <thead>\n",
       "    <tr style=\"text-align: right;\">\n",
       "      <th></th>\n",
       "      <th>product</th>\n",
       "      <th>price</th>\n",
       "      <th>seller</th>\n",
       "      <th>city</th>\n",
       "      <th>quantity</th>\n",
       "      <th>rating</th>\n",
       "    </tr>\n",
       "  </thead>\n",
       "  <tbody>\n",
       "    <tr>\n",
       "      <th>0</th>\n",
       "      <td>Kylafood Paket (3 Seblak Original 2 Batagor Ku...</td>\n",
       "      <td>105705</td>\n",
       "      <td>Sajodo Snack &amp; Food</td>\n",
       "      <td>Tasikmalaya</td>\n",
       "      <td>3000</td>\n",
       "      <td>4.9</td>\n",
       "    </tr>\n",
       "    <tr>\n",
       "      <th>1</th>\n",
       "      <td>Kylafood Seblak Rempah Authentik</td>\n",
       "      <td>10320</td>\n",
       "      <td>Foodstocks</td>\n",
       "      <td>Jakarta Selatan</td>\n",
       "      <td>1000</td>\n",
       "      <td>4.9</td>\n",
       "    </tr>\n",
       "    <tr>\n",
       "      <th>2</th>\n",
       "      <td>Kylafood Seblak Karuhun</td>\n",
       "      <td>12825</td>\n",
       "      <td>Central Seblak Nusantara</td>\n",
       "      <td>Tangerang Selatan</td>\n",
       "      <td>4000</td>\n",
       "      <td>4.8</td>\n",
       "    </tr>\n",
       "    <tr>\n",
       "      <th>3</th>\n",
       "      <td>Seblak Instan Sajodo Snack</td>\n",
       "      <td>22500</td>\n",
       "      <td>Sajodo Snack &amp; Food</td>\n",
       "      <td>Tasikmalaya</td>\n",
       "      <td>100</td>\n",
       "      <td>4.7</td>\n",
       "    </tr>\n",
       "    <tr>\n",
       "      <th>4</th>\n",
       "      <td>Seblak Rafael/Seblak Coet Instan Halal</td>\n",
       "      <td>26600</td>\n",
       "      <td>Anggris Store</td>\n",
       "      <td>Kab. Bogor</td>\n",
       "      <td>100</td>\n",
       "      <td>5.0</td>\n",
       "    </tr>\n",
       "  </tbody>\n",
       "</table>\n",
       "</div>"
      ],
      "text/plain": [
       "                                             product   price  \\\n",
       "0  Kylafood Paket (3 Seblak Original 2 Batagor Ku...  105705   \n",
       "1                   Kylafood Seblak Rempah Authentik   10320   \n",
       "2                            Kylafood Seblak Karuhun   12825   \n",
       "3                         Seblak Instan Sajodo Snack   22500   \n",
       "4             Seblak Rafael/Seblak Coet Instan Halal   26600   \n",
       "\n",
       "                     seller               city quantity  rating  \n",
       "0       Sajodo Snack & Food        Tasikmalaya     3000     4.9  \n",
       "1                Foodstocks    Jakarta Selatan     1000     4.9  \n",
       "2  Central Seblak Nusantara  Tangerang Selatan     4000     4.8  \n",
       "3       Sajodo Snack & Food        Tasikmalaya      100     4.7  \n",
       "4             Anggris Store         Kab. Bogor      100     5.0  "
      ]
     },
     "execution_count": 123,
     "metadata": {},
     "output_type": "execute_result"
    }
   ],
   "source": [
    "# Merapikan isi kolom `product` dengan mengubah hanya huruf kapital pada tiap awal kalimat\n",
    "title_case = ['product', 'seller']\n",
    "\n",
    "for x in title_case:\n",
    "    dxndx[x] = dxndx[x].str.title()\n",
    "\n",
    "dxndx.head()"
   ]
  },
  {
   "cell_type": "markdown",
   "metadata": {},
   "source": [
    "Data pada kolom `product` dan `seller` telah berhasil diubah dengan mengubah hanya huruf kapital pada tiap awal kalimat"
   ]
  },
  {
   "cell_type": "markdown",
   "metadata": {},
   "source": [
    "## Mengubah tipe data pada kolom"
   ]
  },
  {
   "cell_type": "code",
   "execution_count": 124,
   "metadata": {},
   "outputs": [
    {
     "data": {
      "text/plain": [
       "product      object\n",
       "price       float64\n",
       "seller       object\n",
       "city         object\n",
       "quantity      int64\n",
       "rating      float64\n",
       "dtype: object"
      ]
     },
     "execution_count": 124,
     "metadata": {},
     "output_type": "execute_result"
    }
   ],
   "source": [
    "# Mengubah tipe data kolom 'quantity' menjadi integer\n",
    "dxndx['quantity'] = dxndx['quantity'].astype('int64')\n",
    "\n",
    "# Mengubah tipe data kolom 'price' menjadi float\n",
    "dxndx['price'] = dxndx['price'].astype('float64')\n",
    "\n",
    "# Memanggil DataFrame\n",
    "dxndx.dtypes"
   ]
  },
  {
   "cell_type": "markdown",
   "metadata": {},
   "source": [
    "Tipe data pada `quantity` dan `price` telah berhasil dirubah"
   ]
  },
  {
   "cell_type": "code",
   "execution_count": 125,
   "metadata": {},
   "outputs": [],
   "source": [
    "# Menyimpan DataFrame yang sudah melewati proses Data Cleaning, Data Handling, Dll\n",
    "dxndx.to_csv('seblak_tokped_cleaned.csv', index=False)"
   ]
  },
  {
   "cell_type": "markdown",
   "metadata": {},
   "source": [
    "DataFrame berhasil disimpan dan dimasukan kedalam folder"
   ]
  },
  {
   "cell_type": "code",
   "execution_count": 126,
   "metadata": {},
   "outputs": [],
   "source": [
    "# Membaca DataFrame dari file .csv yang sudah dibersihkan\n",
    "dxndx = pd.read_csv('seblak_tokped_cleaned.csv')"
   ]
  },
  {
   "cell_type": "markdown",
   "metadata": {},
   "source": [
    "DataFrame `seblak_tokped_cleaned.csv` berhasil dibaca"
   ]
  },
  {
   "cell_type": "markdown",
   "metadata": {},
   "source": [
    "# Business Understanding/Problem Statement"
   ]
  },
  {
   "cell_type": "markdown",
   "metadata": {},
   "source": [
    "## SMART Framework"
   ]
  },
  {
   "cell_type": "code",
   "execution_count": 127,
   "metadata": {},
   "outputs": [
    {
     "name": "stdout",
     "output_type": "stream",
     "text": [
      "total_quantity_sold                  : 666511\n",
      "total_quantity_sold_with_rating      : 567175\n",
      "target_quantity_sold                 : 680610\n"
     ]
    }
   ],
   "source": [
    "# Total quantity produk terjual\n",
    "dxndx['quantity'].sum()\n",
    "\n",
    "# Filter produk dengan rating >= 4.8\n",
    "high_rating_products = dxndx[dxndx['rating'] >= 4.8]\n",
    "\n",
    "# Hitung total quantity yang terjual untuk produk-produk yang ratingnya >= 4.8\n",
    "total_quantity_sold = high_rating_products['quantity'].sum()\n",
    "\n",
    "# Hitung target quantity dengan peningkatan 20%\n",
    "target_quantity = total_quantity_sold * 1.20\n",
    "\n",
    "# Tampilkan total quantity terjual saat ini dan target quantity\n",
    "print('total_quantity_sold                  :', dxndx['quantity'].sum())\n",
    "print('total_quantity_sold_with_rating      :', int(total_quantity_sold))\n",
    "print('target_quantity_sold                 :', int(target_quantity))\n",
    "\n"
   ]
  },
  {
   "cell_type": "markdown",
   "metadata": {},
   "source": [
    "Terlihat `total_quantity_sold_with_rating` sebanyak 567.175, dan `target_quantity_sold` ingin dinaikan 20% menjadi 680.610 sebagai target yang optimis namun realistis untuk bisnis yang sedang berkembang dengan melihat tren penjualan dari periode sebelumnya (`total_quantity_sold` sebanyak 666.511) dapat memberikan gambaran tentang pertumbuhan yang mungkin terjadi."
   ]
  },
  {
   "cell_type": "markdown",
   "metadata": {},
   "source": [
    "### Metode SMART untuk Meningkatkan Penjualan Produk Seblak\n",
    "\n",
    "**S (Specific)**: \n",
    "Meningkatkan penjualan produk seblak dengan rating 4.8 atau lebih, karena produk dengan rating tinggi menunjukkan kualitas yang baik dan kepuasan pelanggan yang tinggi, yang dapat meningkatkan loyalitas dan kepercayaan pelanggan.\n",
    "\n",
    "**M (Measurable)**:\n",
    "Metrik yang digunakan adalah jumlah penjualan (quantity) produk dengan rating 4.8 ke atas dengan cara meningkatkan penjualan sebesar 20% dari penjualan saat ini, yaitu dari 567,175 unit menjadi 680,610 unit.\n",
    "\n",
    "**A (Achievable)**:\n",
    "Berdasarkan analisis data saat ini, peningkatan 20% dalam penjualan produk dengan rating tinggi menurut saya realistis dengan melakukan beberapa cara untuk mencapainya, yaitu:\n",
    "- Melakukan promosi khusus untuk produk dengan rating 4.8 ke atas\n",
    "- Memberikan diskon atau penawaran bundling\n",
    "- Meningkatkan visibilitas produk di halaman utama dan pencarian\n",
    "- Menggunakan iklan berbayar untuk produk dengan rating tinggi\n",
    "\n",
    "**R (Relevant)**:\n",
    "Meningkatkan penjualan produk berkualitas tinggi sejalan dengan tujuan bisnis untuk meningkatkan kepuasan dan loyalitas pelanggan; produk dengan rating tinggi cenderung memiliki pelanggan yang puas, yang dapat meningkatkan reputasi toko dan menarik lebih banyak pelanggan.\n",
    "\n",
    "**T (Time-bound)**:\n",
    "- Bulan 1-2: Meningkatkan penjualan sebesar 5% dari target.\n",
    "- Bulan 3-4: Meningkatkan penjualan sebesar 10% dari target.\n",
    "- Bulan 5-6: Meningkatkan penjualan sebesar 20% dari target.\n"
   ]
  },
  {
   "cell_type": "markdown",
   "metadata": {},
   "source": [
    "## Statistic Descriptive"
   ]
  },
  {
   "cell_type": "markdown",
   "metadata": {},
   "source": [
    "Setelah dilakukan data preparation, selanjutnya mengolah kolom\n",
    "`harga`, `banyak harga terjual`, dan `rating`, untuk mencari tahu:"
   ]
  },
  {
   "cell_type": "markdown",
   "metadata": {},
   "source": [
    "- rata-rata\n",
    "- median\n",
    "- standar deviasi\n",
    "- skewness\n",
    "- outlier vizualization pake boxplot\n",
    "- kurtosis\n"
   ]
  },
  {
   "cell_type": "code",
   "execution_count": 128,
   "metadata": {},
   "outputs": [
    {
     "name": "stdout",
     "output_type": "stream",
     "text": [
      "Rata-rata harga                  = 22051.45\n",
      "Rata-rata banyak produk terjual  = 638.42\n",
      "Rata-rata rating                 = 4.88\n"
     ]
    }
   ],
   "source": [
    "# Menghitung Rata-rata harga, banyak Produk terjual dan rating\n",
    "print('Rata-rata harga                  = {:.2f}'.format(dxndx['price'].mean()))\n",
    "print('Rata-rata banyak produk terjual  = {:.2f}'.format(dxndx['quantity'].mean()))\n",
    "print('Rata-rata rating                 = {:.2f}'.format(dxndx['rating'].mean()))\n"
   ]
  },
  {
   "cell_type": "markdown",
   "metadata": {},
   "source": [
    "Setelah syntax bisa dijalankan, kita dapat melihat hasil perhitungan rata-rata pada seperti yang ditampilkan diatas."
   ]
  },
  {
   "cell_type": "code",
   "execution_count": 129,
   "metadata": {},
   "outputs": [
    {
     "name": "stdout",
     "output_type": "stream",
     "text": [
      "Median harga                 =  15999.0\n",
      "Median banyak produk terjual =  100.0\n",
      "Median rating                =  4.9\n"
     ]
    }
   ],
   "source": [
    "# Mencari median harga, banyak Produk terjual dan rating\n",
    "print('Median harga                 = ',dxndx['price'].median())\n",
    "print('Median banyak produk terjual = ',dxndx['quantity'].median())\n",
    "print('Median rating                = ',dxndx['rating'].median())"
   ]
  },
  {
   "cell_type": "markdown",
   "metadata": {},
   "source": [
    "Setelah syntax bisa dijalankan, kita dapat melihat hasil perhitungan median seperti yang ditampilkan diatas."
   ]
  },
  {
   "cell_type": "code",
   "execution_count": 130,
   "metadata": {},
   "outputs": [
    {
     "name": "stdout",
     "output_type": "stream",
     "text": [
      "Standar deviasi dari harga   : 23405.48\n",
      "Standar deviasi dari quantity: 1715.55\n",
      "Standar deviasi dari rating  : 0.14\n"
     ]
    }
   ],
   "source": [
    "# Mencari standart deviasi harga, banyak Produk terjual dan rating\n",
    "std_harga = dxndx['price'].std()\n",
    "std_quantity = dxndx['quantity'].std()\n",
    "std_rating = dxndx['rating'].std()\n",
    "\n",
    "print(f'Standar deviasi dari harga   : {std_harga:.2f}')\n",
    "print(f'Standar deviasi dari quantity: {std_quantity:.2f}')\n",
    "print(f'Standar deviasi dari rating  : {std_rating:.2f}')"
   ]
  },
  {
   "cell_type": "markdown",
   "metadata": {},
   "source": [
    "- Standar deviasi harga adalah 23.405,48. Hal ini berarti bahwa harga produk rata-rata berbeda 23.405,48 dari harga rata-rata di pasar.\n",
    "- Standar deviasi kuantitas adalah 1715,55. Hal ini berarti bahwa kuantitas produk yang terjual rata-rata berbeda 1715,55 unit dari rata-rata kuantitas yang terjual di pasar.\n",
    "- Standar deviasi rating adalah 0.14. Hal ini berarti bahwa rating produk rata-rata berbeda 0.14 poin dari rata-rata rating di pasar."
   ]
  },
  {
   "cell_type": "code",
   "execution_count": 131,
   "metadata": {},
   "outputs": [
    {
     "data": {
      "image/png": "[encoded data removed]",
      "text/plain": [
       "<Figure size 1500x500 with 3 Axes>"
      ]
     },
     "metadata": {},
     "output_type": "display_data"
    }
   ],
   "source": [
    "import matplotlib.pyplot as plt  # Import library untuk plotting\n",
    "\n",
    "plt.figure(figsize=(15, 5))  # Membuat gambar dengan ukuran tertentu\n",
    "\n",
    "# Subplot 1: Histogram dari kolom 'price' dengan 20 bins, warna ungu, dan transparansi 0.7\n",
    "plt.subplot(1, 3, 1)\n",
    "plt.hist(dxndx['price'], bins=20, color='purple', alpha=0.7)\n",
    "plt.title('Distribusi Harga')  # Judul subplot\n",
    "plt.xlabel('Harga')  # Label sumbu x\n",
    "plt.ylabel('Frekuensi')  # Label sumbu y\n",
    "\n",
    "# Subplot 2: Histogram dari kolom 'quantity' dengan 20 bins, warna hijau, dan transparansi 0.7\n",
    "plt.subplot(1, 3, 2)\n",
    "plt.hist(dxndx['quantity'], bins=20, color='green', alpha=0.7)\n",
    "plt.title('Distribusi Banyak Produk Terjual')  # Judul subplot\n",
    "plt.xlabel('Banyak Produk Terjual')  # Label sumbu x\n",
    "plt.ylabel('Frekuensi')  # Label sumbu y\n",
    "\n",
    "# Subplot 3: Histogram dari kolom 'rating' dengan 20 bins, warna biru, dan transparansi 0.7\n",
    "plt.subplot(1, 3, 3)\n",
    "plt.hist(dxndx['rating'], bins=20, color='blue', alpha=0.7)\n",
    "plt.title('Distribusi Rating')  # Judul subplot\n",
    "plt.xlabel('Rating')  # Label sumbu x\n",
    "plt.ylabel('Frekuensi')  # Label sumbu y\n",
    "\n",
    "plt.tight_layout()  # Menyesuaikan tata letak subplot agar tidak tumpang tindih\n",
    "plt.show()  # Menampilkan plot yang telah dibuat"
   ]
  },
  {
   "cell_type": "code",
   "execution_count": 132,
   "metadata": {},
   "outputs": [
    {
     "name": "stdout",
     "output_type": "stream",
     "text": [
      "Skewness Harga                  : 4.05778082857065\n",
      "Skewness Banyak Produk Terjual  : 4.4098411084809594\n",
      "Skewness Rating                 : -2.4444835549291395\n"
     ]
    }
   ],
   "source": [
    "# Mencari skewness dari kolom-kolom tertentu\n",
    "skewness_harga = dxndx['price'].skew()\n",
    "skewness_banyak_produk_terjual = dxndx['quantity'].skew()\n",
    "skewness_rating = dxndx['rating'].skew()\n",
    "\n",
    "# Mencetak hasilnya\n",
    "print(f\"Skewness Harga                  : {skewness_harga}\")\n",
    "print(f\"Skewness Banyak Produk Terjual  : {skewness_banyak_produk_terjual}\")\n",
    "print(f\"Skewness Rating                 : {skewness_rating}\")"
   ]
  },
  {
   "cell_type": "markdown",
   "metadata": {},
   "source": [
    "- Harga: Distribusi harga miring ke kanan (skewness positif). Artinya, terdapat lebih banyak produk dengan harga yang lebih rendah dibandingkan dengan produk dengan harga yang lebih tinggi.\n",
    "\n",
    "- Kuantitas terjual: Distribusi kuantitas terjual miring ke kanan (skewness positif). Artinya, terdapat lebih banyak produk dengan penjualan yang lebih sedikit dibandingkan dengan produk dengan penjualan yang lebih banyak.\n",
    "\n",
    "- Rating: Distribusi rating miring ke kanan (skewness positif). Artinya, terdapat lebih banyak produk dengan rating yang lebih rendah dibandingkan dengan produk dengan rating yang lebih tinggi."
   ]
  },
  {
   "cell_type": "code",
   "execution_count": 133,
   "metadata": {},
   "outputs": [
    {
     "data": {
      "image/png": "[encoded data removed]",
      "text/plain": [
       "<Figure size 640x480 with 1 Axes>"
      ]
     },
     "metadata": {},
     "output_type": "display_data"
    }
   ],
   "source": [
    "# Mencari outlier viz. pake boxplot\n",
    "import matplotlib.pyplot as plt\n",
    "\n",
    "# Spesifikasikan kolom yang ingin Anda visualisasikan outlier-nya\n",
    "kolom_visualisasi = ['price', 'quantity', 'rating']\n",
    "\n",
    "# Buat boxplot untuk kolom-kolom tersebut\n",
    "dxndx[kolom_visualisasi].boxplot()\n",
    "\n",
    "# Tampilkan boxplot\n",
    "plt.title('Boxplot untuk Kolom Harga, Banyak Produk Terjual, dan Rating')\n",
    "plt.ylabel('Nilai')\n",
    "plt.show()\n"
   ]
  },
  {
   "cell_type": "markdown",
   "metadata": {},
   "source": [
    "Pada kolom `price` terdapat lebih banyak data-data yang jauh dari kumpulan data lainnya dibandung quantity, sedangkan pada kolom `rating` cenderung normal"
   ]
  },
  {
   "cell_type": "code",
   "execution_count": 134,
   "metadata": {},
   "outputs": [
    {
     "name": "stdout",
     "output_type": "stream",
     "text": [
      "Kurtosis Harga                  : 27.580759941266944\n",
      "Kurtosis Banyak Produk Terjual  : 20.258959194564884\n",
      "Kurtosis Rating                 : 9.641581917334896\n"
     ]
    },
    {
     "data": {
      "image/png": "[encoded data removed]",
      "text/plain": [
       "<Figure size 1500x500 with 3 Axes>"
      ]
     },
     "metadata": {},
     "output_type": "display_data"
    }
   ],
   "source": [
    "# Mencari kurtosis\n",
    "import pandas as pd\n",
    "import matplotlib.pyplot as plt\n",
    "\n",
    "kurtosis_harga = dxndx['price'].kurtosis()\n",
    "kurtosis_banyak_produk_terjual = dxndx['quantity'].kurtosis()\n",
    "kurtosis_rating = dxndx['rating'].kurtosis()\n",
    "\n",
    "# Mencetak hasilnya\n",
    "print(f\"Kurtosis Harga                  : {kurtosis_harga}\")\n",
    "print(f\"Kurtosis Banyak Produk Terjual  : {kurtosis_banyak_produk_terjual}\")\n",
    "print(f\"Kurtosis Rating                 : {kurtosis_rating}\")\n",
    "\n",
    "# Membuat visualisasi histogram\n",
    "plt.figure(figsize=(15, 5))\n",
    "\n",
    "plt.subplot(1, 3, 1)\n",
    "plt.hist(dxndx['price'], bins=20, color='purple', alpha=0.7)\n",
    "plt.title('Distribusi Harga')\n",
    "plt.xlabel('price')\n",
    "plt.ylabel('Frekuensi')\n",
    "\n",
    "plt.subplot(1, 3, 2)\n",
    "plt.hist(dxndx['quantity'], bins=20, color='green', alpha=0.7)\n",
    "plt.title('Distribusi Banyak Produk Terjual')\n",
    "plt.xlabel('quantity')\n",
    "plt.ylabel('Frekuensi')\n",
    "\n",
    "plt.subplot(1, 3, 3)\n",
    "plt.hist(dxndx['rating'], bins=20, color='blue', alpha=0.7)\n",
    "plt.title('Distribusi Rating')\n",
    "plt.xlabel('rating')\n",
    "plt.ylabel('Frekuensi')\n",
    "\n",
    "plt.tight_layout()\n",
    "plt.show()"
   ]
  },
  {
   "cell_type": "markdown",
   "metadata": {},
   "source": [
    "- Harga: Distribusi harga memiliki kurtosis yang positif. Artinya, terdapat lebih banyak produk dengan harga yang dekat dengan nilai median dibandingkan dengan produk dengan harga yang jauh dari nilai median.\n",
    "\n",
    "- Kuantitas terjual: Distribusi kuantitas terjual memiliki kurtosis yang positif. Artinya, terdapat lebih banyak produk dengan penjualan yang dekat dengan nilai median dibandingkan dengan produk dengan penjualan yang jauh dari nilai median.\n",
    "\n",
    "- Rating: Distribusi rating memiliki kurtosis yang positif. Artinya, terdapat lebih banyak produk dengan rating yang dekat dengan nilai median dibandingkan dengan produk dengan rating yang jauh dari nilai median."
   ]
  },
  {
   "cell_type": "markdown",
   "metadata": {},
   "source": [
    "## Confidence Interval"
   ]
  },
  {
   "cell_type": "markdown",
   "metadata": {},
   "source": [
    "potensi minimum dan maksimum dari kolom `price`"
   ]
  },
  {
   "cell_type": "markdown",
   "metadata": {},
   "source": [
    "- lower value\n",
    "- upper value"
   ]
  },
  {
   "cell_type": "markdown",
   "metadata": {},
   "source": [
    "confidence level 95% -> critical value 5%"
   ]
  },
  {
   "cell_type": "code",
   "execution_count": 135,
   "metadata": {},
   "outputs": [
    {
     "name": "stdout",
     "output_type": "stream",
     "text": [
      "Lower Limit: 20631\n",
      "Upper Limit: 23471\n"
     ]
    }
   ],
   "source": [
    "from scipy import stats  # Import modul stats dari SciPy\n",
    "import numpy as np  # Import modul numpy\n",
    "\n",
    "std = dxndx['price'].std()  # Hitung standar deviasi dari kolom 'price'\n",
    "N = len(dxndx)  # Hitung panjang data pada DataFrame\n",
    "low, up = stats.norm.interval(0.95, loc=dxndx['price'].mean(), scale=std/np.sqrt(N))  # Hitung interval kepercayaan 95%\n",
    "print('Lower Limit:', int(low))  # Cetak batas bawah interval\n",
    "print('Upper Limit:', int(up))  # Cetak batas atas interval"
   ]
  },
  {
   "cell_type": "markdown",
   "metadata": {},
   "source": [
    "Batas harga yang memungkinkan untuk menarik customer untuk membeli produk seblak yaitu ada pada rentang minimal 20.631, sedangkan maksimumnya 23.471"
   ]
  },
  {
   "cell_type": "markdown",
   "metadata": {},
   "source": [
    "## Hipotesis Jabodetabek vs Non-Jabodetabek"
   ]
  },
  {
   "cell_type": "code",
   "execution_count": 136,
   "metadata": {},
   "outputs": [
    {
     "data": {
      "text/plain": [
       "array(['Tasikmalaya', 'Jakarta Selatan', 'Tangerang Selatan',\n",
       "       'Kab. Bogor', 'Jakarta Barat', 'Jakarta Timur', 'Depok',\n",
       "       'Kab. Tangerang', 'Kab. Bekasi', 'Kab. Bandung', 'Kab. Garut',\n",
       "       'Kab. Majalengka', 'Tangerang', 'Bandung', 'Malang', 'Surabaya',\n",
       "       'Jakarta Pusat', 'Kab. Tasikmalaya', 'Bogor', 'Kab. Bandung Barat',\n",
       "       'Jakarta Utara', 'Medan', 'Cimahi', 'Kab. Sidoarjo', 'Bekasi',\n",
       "       'Kab. Indramayu', 'Denpasar', 'Surakarta', 'Kab. Klaten',\n",
       "       'Kab. Malang', 'Kab. Sumedang', 'Kediri', 'Kab. Bantul',\n",
       "       'Semarang', 'Makassar', 'Kab.Ciamis', 'Kab. Gresik', 'Banjarbaru',\n",
       "       'Palembang', 'Kab. Madiun', 'Kab. Mojokerto', 'Kab. Sukabumi',\n",
       "       'Kab. Cirebon', 'Kab. Pekalongan', 'Kab. Purwakarta',\n",
       "       'Kab. Sleman', 'Pekanbaru', 'Kab. Kebumen', 'Kab. Jember',\n",
       "       'Kab. Magelang', 'Bandar Lampung'], dtype=object)"
      ]
     },
     "execution_count": 136,
     "metadata": {},
     "output_type": "execute_result"
    }
   ],
   "source": [
    "# Memanggil unique value pada kolom `city`\n",
    "dxndx['city'].unique()"
   ]
  },
  {
   "cell_type": "code",
   "execution_count": 137,
   "metadata": {},
   "outputs": [
    {
     "data": {
      "text/html": [
       "<div>\n",
       "<style scoped>\n",
       "    .dataframe tbody tr th:only-of-type {\n",
       "        vertical-align: middle;\n",
       "    }\n",
       "\n",
       "    .dataframe tbody tr th {\n",
       "        vertical-align: top;\n",
       "    }\n",
       "\n",
       "    .dataframe thead th {\n",
       "        text-align: right;\n",
       "    }\n",
       "</style>\n",
       "<table border=\"1\" class=\"dataframe\">\n",
       "  <thead>\n",
       "    <tr style=\"text-align: right;\">\n",
       "      <th></th>\n",
       "      <th>product</th>\n",
       "      <th>price</th>\n",
       "      <th>seller</th>\n",
       "      <th>city</th>\n",
       "      <th>quantity</th>\n",
       "      <th>rating</th>\n",
       "    </tr>\n",
       "  </thead>\n",
       "  <tbody>\n",
       "    <tr>\n",
       "      <th>1</th>\n",
       "      <td>Kylafood Seblak Rempah Authentik</td>\n",
       "      <td>10320.0</td>\n",
       "      <td>Foodstocks</td>\n",
       "      <td>Jakarta Selatan</td>\n",
       "      <td>1000</td>\n",
       "      <td>4.9</td>\n",
       "    </tr>\n",
       "    <tr>\n",
       "      <th>2</th>\n",
       "      <td>Kylafood Seblak Karuhun</td>\n",
       "      <td>12825.0</td>\n",
       "      <td>Central Seblak Nusantara</td>\n",
       "      <td>Tangerang Selatan</td>\n",
       "      <td>4000</td>\n",
       "      <td>4.8</td>\n",
       "    </tr>\n",
       "    <tr>\n",
       "      <th>4</th>\n",
       "      <td>Seblak Rafael/Seblak Coet Instan Halal</td>\n",
       "      <td>26600.0</td>\n",
       "      <td>Anggris Store</td>\n",
       "      <td>Kab. Bogor</td>\n",
       "      <td>100</td>\n",
       "      <td>5.0</td>\n",
       "    </tr>\n",
       "    <tr>\n",
       "      <th>5</th>\n",
       "      <td>Seblak Instan Ceu Nthien Khas Bandung Rasana N...</td>\n",
       "      <td>17000.0</td>\n",
       "      <td>The Dhecip</td>\n",
       "      <td>Tangerang Selatan</td>\n",
       "      <td>2000</td>\n",
       "      <td>4.9</td>\n",
       "    </tr>\n",
       "    <tr>\n",
       "      <th>6</th>\n",
       "      <td>3 Seblak Free Baso Aci</td>\n",
       "      <td>90000.0</td>\n",
       "      <td>Riki Store 97</td>\n",
       "      <td>Kab. Bogor</td>\n",
       "      <td>80</td>\n",
       "      <td>4.9</td>\n",
       "    </tr>\n",
       "    <tr>\n",
       "      <th>...</th>\n",
       "      <td>...</td>\n",
       "      <td>...</td>\n",
       "      <td>...</td>\n",
       "      <td>...</td>\n",
       "      <td>...</td>\n",
       "      <td>...</td>\n",
       "    </tr>\n",
       "    <tr>\n",
       "      <th>1033</th>\n",
       "      <td>Krupuk / Kerupuk Mentah / Kerupuk Seblak Menta...</td>\n",
       "      <td>21750.0</td>\n",
       "      <td>Toko Putraperdana</td>\n",
       "      <td>Kab. Bekasi</td>\n",
       "      <td>13</td>\n",
       "      <td>4.9</td>\n",
       "    </tr>\n",
       "    <tr>\n",
       "      <th>1039</th>\n",
       "      <td>Muria Snack Seblak Stick Cabe Merah X 10Pcs (B...</td>\n",
       "      <td>55000.0</td>\n",
       "      <td>Ngemildotcom</td>\n",
       "      <td>Depok</td>\n",
       "      <td>250</td>\n",
       "      <td>4.7</td>\n",
       "    </tr>\n",
       "    <tr>\n",
       "      <th>1040</th>\n",
       "      <td>Seblak Kering / Seblak Kerupuk Krupuk Putih Ba...</td>\n",
       "      <td>7000.0</td>\n",
       "      <td>Distributor Cuanki Dan Seblak</td>\n",
       "      <td>Kab. Bekasi</td>\n",
       "      <td>12</td>\n",
       "      <td>4.9</td>\n",
       "    </tr>\n",
       "    <tr>\n",
       "      <th>1042</th>\n",
       "      <td>Kerupuk Seblak Mawar Kribo Pedas Daun Jeruk 1.8Kg</td>\n",
       "      <td>70000.0</td>\n",
       "      <td>Mak_Cudot</td>\n",
       "      <td>Jakarta Utara</td>\n",
       "      <td>2</td>\n",
       "      <td>4.9</td>\n",
       "    </tr>\n",
       "    <tr>\n",
       "      <th>1043</th>\n",
       "      <td>Kerupuk Seblak Pedas 100 Gram, Kerupuk Seblak ...</td>\n",
       "      <td>22688.0</td>\n",
       "      <td>Baksorusukjossofficial</td>\n",
       "      <td>Bekasi</td>\n",
       "      <td>8</td>\n",
       "      <td>4.9</td>\n",
       "    </tr>\n",
       "  </tbody>\n",
       "</table>\n",
       "<p>614 rows × 6 columns</p>\n",
       "</div>"
      ],
      "text/plain": [
       "                                                product    price  \\\n",
       "1                      Kylafood Seblak Rempah Authentik  10320.0   \n",
       "2                               Kylafood Seblak Karuhun  12825.0   \n",
       "4                Seblak Rafael/Seblak Coet Instan Halal  26600.0   \n",
       "5     Seblak Instan Ceu Nthien Khas Bandung Rasana N...  17000.0   \n",
       "6                                3 Seblak Free Baso Aci  90000.0   \n",
       "...                                                 ...      ...   \n",
       "1033  Krupuk / Kerupuk Mentah / Kerupuk Seblak Menta...  21750.0   \n",
       "1039  Muria Snack Seblak Stick Cabe Merah X 10Pcs (B...  55000.0   \n",
       "1040  Seblak Kering / Seblak Kerupuk Krupuk Putih Ba...   7000.0   \n",
       "1042  Kerupuk Seblak Mawar Kribo Pedas Daun Jeruk 1.8Kg  70000.0   \n",
       "1043  Kerupuk Seblak Pedas 100 Gram, Kerupuk Seblak ...  22688.0   \n",
       "\n",
       "                             seller               city  quantity  rating  \n",
       "1                        Foodstocks    Jakarta Selatan      1000     4.9  \n",
       "2          Central Seblak Nusantara  Tangerang Selatan      4000     4.8  \n",
       "4                     Anggris Store         Kab. Bogor       100     5.0  \n",
       "5                        The Dhecip  Tangerang Selatan      2000     4.9  \n",
       "6                     Riki Store 97         Kab. Bogor        80     4.9  \n",
       "...                             ...                ...       ...     ...  \n",
       "1033              Toko Putraperdana        Kab. Bekasi        13     4.9  \n",
       "1039                   Ngemildotcom              Depok       250     4.7  \n",
       "1040  Distributor Cuanki Dan Seblak        Kab. Bekasi        12     4.9  \n",
       "1042                      Mak_Cudot      Jakarta Utara         2     4.9  \n",
       "1043         Baksorusukjossofficial             Bekasi         8     4.9  \n",
       "\n",
       "[614 rows x 6 columns]"
      ]
     },
     "execution_count": 137,
     "metadata": {},
     "output_type": "execute_result"
    }
   ],
   "source": [
    "# Membuat subset 'jabodetabek' dari DataFrame 'dxndx' berdasarkan kriteria kota/kabupaten di wilayah Jabodetabek\n",
    "jabodetabek = dxndx[(dxndx['city'] == 'Jakarta Selatan')|\n",
    "              (dxndx['city'] == 'Jakarta Timur')|\n",
    "              (dxndx['city'] == 'Jakarta Barat')|\n",
    "              (dxndx['city'] == 'Jakarta Pusat')|\n",
    "              (dxndx['city'] == 'Jakarta Utara')|\n",
    "              (dxndx['city'] == 'Bogor')|\n",
    "              (dxndx['city'] == 'Kab. Bogor')|\n",
    "              (dxndx['city'] == 'Depok')|\n",
    "              (dxndx['city'] == 'Tangerang')|\n",
    "              (dxndx['city'] == 'Kab. Tangerang')|\n",
    "              (dxndx['city'] == 'Tangerang Selatan')|\n",
    "              (dxndx['city'] == 'Kab. Bekasi')|\n",
    "              (dxndx['city'] == 'Bekasi')|\n",
    "              (dxndx['city'] == 'Jakarta Utara')]\n",
    "\n",
    "# Menampilkan subset 'jabodetabek' yang berisi data dari wilayah Jabodetabek\n",
    "jabodetabek"
   ]
  },
  {
   "cell_type": "code",
   "execution_count": 138,
   "metadata": {},
   "outputs": [
    {
     "data": {
      "text/plain": [
       "array(['Jakarta Selatan', 'Tangerang Selatan', 'Kab. Bogor',\n",
       "       'Jakarta Barat', 'Jakarta Timur', 'Depok', 'Kab. Tangerang',\n",
       "       'Kab. Bekasi', 'Tangerang', 'Jakarta Pusat', 'Bogor',\n",
       "       'Jakarta Utara', 'Bekasi'], dtype=object)"
      ]
     },
     "execution_count": 138,
     "metadata": {},
     "output_type": "execute_result"
    }
   ],
   "source": [
    "# Memanggi unique value pada subset `jabodetabek` yang telah dibuat\n",
    "jabodetabek['city'].unique()"
   ]
  },
  {
   "cell_type": "code",
   "execution_count": 139,
   "metadata": {},
   "outputs": [
    {
     "data": {
      "text/html": [
       "<div>\n",
       "<style scoped>\n",
       "    .dataframe tbody tr th:only-of-type {\n",
       "        vertical-align: middle;\n",
       "    }\n",
       "\n",
       "    .dataframe tbody tr th {\n",
       "        vertical-align: top;\n",
       "    }\n",
       "\n",
       "    .dataframe thead th {\n",
       "        text-align: right;\n",
       "    }\n",
       "</style>\n",
       "<table border=\"1\" class=\"dataframe\">\n",
       "  <thead>\n",
       "    <tr style=\"text-align: right;\">\n",
       "      <th></th>\n",
       "      <th>product</th>\n",
       "      <th>price</th>\n",
       "      <th>seller</th>\n",
       "      <th>city</th>\n",
       "      <th>quantity</th>\n",
       "      <th>rating</th>\n",
       "    </tr>\n",
       "  </thead>\n",
       "  <tbody>\n",
       "    <tr>\n",
       "      <th>0</th>\n",
       "      <td>Kylafood Paket (3 Seblak Original 2 Batagor Ku...</td>\n",
       "      <td>105705.0</td>\n",
       "      <td>Sajodo Snack &amp; Food</td>\n",
       "      <td>Tasikmalaya</td>\n",
       "      <td>3000</td>\n",
       "      <td>4.9</td>\n",
       "    </tr>\n",
       "    <tr>\n",
       "      <th>3</th>\n",
       "      <td>Seblak Instan Sajodo Snack</td>\n",
       "      <td>22500.0</td>\n",
       "      <td>Sajodo Snack &amp; Food</td>\n",
       "      <td>Tasikmalaya</td>\n",
       "      <td>100</td>\n",
       "      <td>4.7</td>\n",
       "    </tr>\n",
       "    <tr>\n",
       "      <th>18</th>\n",
       "      <td>Krupuk Seblak Mawar Rafael Pedas 500Gr</td>\n",
       "      <td>23500.0</td>\n",
       "      <td>Gk_Snack</td>\n",
       "      <td>Kab. Bandung</td>\n",
       "      <td>100</td>\n",
       "      <td>4.9</td>\n",
       "    </tr>\n",
       "    <tr>\n",
       "      <th>22</th>\n",
       "      <td>Krupuk Seblak Hah Pedas Gurih 500Gr</td>\n",
       "      <td>26500.0</td>\n",
       "      <td>Baso Aci Ayang</td>\n",
       "      <td>Kab. Garut</td>\n",
       "      <td>1000</td>\n",
       "      <td>4.9</td>\n",
       "    </tr>\n",
       "    <tr>\n",
       "      <th>26</th>\n",
       "      <td>Kylafood Seblak Cup</td>\n",
       "      <td>14000.0</td>\n",
       "      <td>Boisfrozen</td>\n",
       "      <td>Kab. Majalengka</td>\n",
       "      <td>250</td>\n",
       "      <td>5.0</td>\n",
       "    </tr>\n",
       "    <tr>\n",
       "      <th>...</th>\n",
       "      <td>...</td>\n",
       "      <td>...</td>\n",
       "      <td>...</td>\n",
       "      <td>...</td>\n",
       "      <td>...</td>\n",
       "      <td>...</td>\n",
       "    </tr>\n",
       "    <tr>\n",
       "      <th>1035</th>\n",
       "      <td>50Pcs Lidah Cuanki Batagor Bahan Pelengkap Boc...</td>\n",
       "      <td>16380.0</td>\n",
       "      <td>Berkah Niaga Jaya</td>\n",
       "      <td>Kab. Garut</td>\n",
       "      <td>7</td>\n",
       "      <td>4.9</td>\n",
       "    </tr>\n",
       "    <tr>\n",
       "      <th>1036</th>\n",
       "      <td>Kerupuk Seblak Bantet Pedas 75 Gr Enak Renyah ...</td>\n",
       "      <td>4500.0</td>\n",
       "      <td>Seblak Guludug Bandung</td>\n",
       "      <td>Kab. Bandung</td>\n",
       "      <td>100</td>\n",
       "      <td>5.0</td>\n",
       "    </tr>\n",
       "    <tr>\n",
       "      <th>1037</th>\n",
       "      <td>Krupuk Seblak//Krupuk Bantet 250Gr</td>\n",
       "      <td>6000.0</td>\n",
       "      <td>Warungsaputra</td>\n",
       "      <td>Bandung</td>\n",
       "      <td>50</td>\n",
       "      <td>4.9</td>\n",
       "    </tr>\n",
       "    <tr>\n",
       "      <th>1038</th>\n",
       "      <td>Seblak Bapper / Seblak Instant Viral / Makanan...</td>\n",
       "      <td>19000.0</td>\n",
       "      <td>Bandung_Snack</td>\n",
       "      <td>Kab. Bandung</td>\n",
       "      <td>70</td>\n",
       "      <td>4.8</td>\n",
       "    </tr>\n",
       "    <tr>\n",
       "      <th>1041</th>\n",
       "      <td>Kerupuk Kepang Taraje Isi 250G Bahan Seblak By...</td>\n",
       "      <td>6499.0</td>\n",
       "      <td>Yohangunawan94</td>\n",
       "      <td>Bandung</td>\n",
       "      <td>100</td>\n",
       "      <td>4.9</td>\n",
       "    </tr>\n",
       "  </tbody>\n",
       "</table>\n",
       "<p>430 rows × 6 columns</p>\n",
       "</div>"
      ],
      "text/plain": [
       "                                                product     price  \\\n",
       "0     Kylafood Paket (3 Seblak Original 2 Batagor Ku...  105705.0   \n",
       "3                            Seblak Instan Sajodo Snack   22500.0   \n",
       "18               Krupuk Seblak Mawar Rafael Pedas 500Gr   23500.0   \n",
       "22                  Krupuk Seblak Hah Pedas Gurih 500Gr   26500.0   \n",
       "26                                  Kylafood Seblak Cup   14000.0   \n",
       "...                                                 ...       ...   \n",
       "1035  50Pcs Lidah Cuanki Batagor Bahan Pelengkap Boc...   16380.0   \n",
       "1036  Kerupuk Seblak Bantet Pedas 75 Gr Enak Renyah ...    4500.0   \n",
       "1037                 Krupuk Seblak//Krupuk Bantet 250Gr    6000.0   \n",
       "1038  Seblak Bapper / Seblak Instant Viral / Makanan...   19000.0   \n",
       "1041  Kerupuk Kepang Taraje Isi 250G Bahan Seblak By...    6499.0   \n",
       "\n",
       "                      seller             city  quantity  rating  \n",
       "0        Sajodo Snack & Food      Tasikmalaya      3000     4.9  \n",
       "3        Sajodo Snack & Food      Tasikmalaya       100     4.7  \n",
       "18                  Gk_Snack     Kab. Bandung       100     4.9  \n",
       "22            Baso Aci Ayang       Kab. Garut      1000     4.9  \n",
       "26                Boisfrozen  Kab. Majalengka       250     5.0  \n",
       "...                      ...              ...       ...     ...  \n",
       "1035       Berkah Niaga Jaya       Kab. Garut         7     4.9  \n",
       "1036  Seblak Guludug Bandung     Kab. Bandung       100     5.0  \n",
       "1037           Warungsaputra          Bandung        50     4.9  \n",
       "1038           Bandung_Snack     Kab. Bandung        70     4.8  \n",
       "1041          Yohangunawan94          Bandung       100     4.9  \n",
       "\n",
       "[430 rows x 6 columns]"
      ]
     },
     "execution_count": 139,
     "metadata": {},
     "output_type": "execute_result"
    }
   ],
   "source": [
    "# Membuat subset 'non_jabodetabek' dari DataFrame 'dxndx' berdasarkan kriteria kota/kabupaten di wilayah Non-Jabodetabek\n",
    "non_jabodetabek = dxndx[~((dxndx['city'] == 'Jakarta Selatan')|\n",
    "              (dxndx['city'] == 'Jakarta Timur')|\n",
    "              (dxndx['city'] == 'Jakarta Barat')|\n",
    "              (dxndx['city'] == 'Jakarta Pusat')|\n",
    "              (dxndx['city'] == 'Jakarta Utara')|\n",
    "              (dxndx['city'] == 'Bogor')|\n",
    "              (dxndx['city'] == 'Kab. Bogor')|\n",
    "              (dxndx['city'] == 'Depok')|\n",
    "              (dxndx['city'] == 'Tangerang')|\n",
    "              (dxndx['city'] == 'Kab. Tangerang')|\n",
    "              (dxndx['city'] == 'Tangerang Selatan')|\n",
    "              (dxndx['city'] == 'Kab. Bekasi')|\n",
    "              (dxndx['city'] == 'Bekasi')|\n",
    "              (dxndx['city'] == 'Jakarta Utara'))]\n",
    "\n",
    "# Menampilkan subset 'non_jabodetabek' yang berisi data dari wilayah Non_Jabodetabek\n",
    "non_jabodetabek"
   ]
  },
  {
   "cell_type": "code",
   "execution_count": 140,
   "metadata": {},
   "outputs": [
    {
     "data": {
      "text/plain": [
       "array(['Tasikmalaya', 'Kab. Bandung', 'Kab. Garut', 'Kab. Majalengka',\n",
       "       'Bandung', 'Malang', 'Surabaya', 'Kab. Tasikmalaya',\n",
       "       'Kab. Bandung Barat', 'Medan', 'Cimahi', 'Kab. Sidoarjo',\n",
       "       'Kab. Indramayu', 'Denpasar', 'Surakarta', 'Kab. Klaten',\n",
       "       'Kab. Malang', 'Kab. Sumedang', 'Kediri', 'Kab. Bantul',\n",
       "       'Semarang', 'Makassar', 'Kab.Ciamis', 'Kab. Gresik', 'Banjarbaru',\n",
       "       'Palembang', 'Kab. Madiun', 'Kab. Mojokerto', 'Kab. Sukabumi',\n",
       "       'Kab. Cirebon', 'Kab. Pekalongan', 'Kab. Purwakarta',\n",
       "       'Kab. Sleman', 'Pekanbaru', 'Kab. Kebumen', 'Kab. Jember',\n",
       "       'Kab. Magelang', 'Bandar Lampung'], dtype=object)"
      ]
     },
     "execution_count": 140,
     "metadata": {},
     "output_type": "execute_result"
    }
   ],
   "source": [
    "# Memanggi unique value pada subset `non_jabodetabek` yang telah dibuat\n",
    "non_jabodetabek['city'].unique()"
   ]
  },
  {
   "cell_type": "code",
   "execution_count": 141,
   "metadata": {},
   "outputs": [
    {
     "name": "stdout",
     "output_type": "stream",
     "text": [
      "H1:\n",
      "Harga barang di Jabodetabek dan di luar Jabodetabek tidak berbeda secara signifikan \n",
      "(p-value = 0.6340806735789215).\n"
     ]
    }
   ],
   "source": [
    "# Import fungsi uji t dua sampel independen dari SciPy\n",
    "from scipy.stats import ttest_ind\n",
    "\n",
    "# Memisahkan kolom harga dari masing-masing DataFrame\n",
    "jabodetabek_price = jabodetabek['price'].values\n",
    "non_jabodetabek_price = non_jabodetabek['price'].values\n",
    "\n",
    "# Melakukan uji t dua sampel independen\n",
    "t_stat, p_value = ttest_ind(jabodetabek_price, non_jabodetabek_price)\n",
    "\n",
    "# Menentukan tingkat signifikansi\n",
    "alpha = 0.05\n",
    "\n",
    "# Menarik kesimpulan\n",
    "if p_value < alpha:\n",
    "    print(f\"H0:\\nHarga barang di Jabodetabek dan di luar Jabodetabek berbeda secara signifikan \\n(p-value = {p_value}).\")\n",
    "else:\n",
    "    print(f\"H1:\\nHarga barang di Jabodetabek dan di luar Jabodetabek tidak berbeda secara signifikan \\n(p-value = {p_value}).\")"
   ]
  },
  {
   "cell_type": "markdown",
   "metadata": {},
   "source": [
    "Hasil P-Value menunjukan bahwa ada cukup bukti untuk menolak hipotesis nol, yang berarti harga barang antara Jabodetabek dan Non-jabodetabek tidak berbeda secara signifikan"
   ]
  },
  {
   "cell_type": "markdown",
   "metadata": {},
   "source": [
    "# E. Conclusion"
   ]
  },
  {
   "cell_type": "markdown",
   "metadata": {},
   "source": [
    "## Recap"
   ]
  },
  {
   "cell_type": "markdown",
   "metadata": {},
   "source": [
    "- Rata-rata banyak produk terjual  = 638.42\n",
    "- Rata-rata rating                 = 4.88\n",
    "\n",
    "- Distribusi kuantitas terjual memiliki kurtosis yang positif. Artinya, terdapat lebih banyak produk dengan penjualan yang dekat dengan nilai median dibandingkan dengan produk dengan penjualan yang jauh dari nilai median.\n",
    "\n",
    "- Distribusi rating miring ke kanan (skewness positif). Artinya, terdapat lebih banyak produk dengan rating yang lebih rendah dibandingkan dengan produk dengan rating yang lebih tinggi.\n",
    "\n",
    "- Batas harga yang memungkinkan untuk menarik customer untuk membeli produk seblak yaitu ada pada rentang minimal 20.631, sedangkan maksimumnya 23.471\n",
    "\n",
    "- Hasil P-Value menunjukan bahwa ada cukup bukti untuk menolak hipotesis nol, yang berarti harga barang antara Jabodetabek dan Non-jabodetabek tidak berbeda secara signifikan"
   ]
  },
  {
   "cell_type": "markdown",
   "metadata": {},
   "source": [
    "## Insight"
   ]
  },
  {
   "cell_type": "markdown",
   "metadata": {},
   "source": [
    "- Jika Anda ingin meningkatkan penjualan produk, Anda dapat menggunakan informasi skewness untuk menentukan produk mana yang perlu dipromosikan lebih gencar. kita dapat fokus pada produk dengan penjualan yang lebih banyak karena produk tersebut memiliki potensi penjualan yang lebih besar dan lebih mudah untuk ditingkatkan.\n",
    "\n",
    "- Jika Anda ingin meningkatkan reputasi brand/toko Anda, Anda dapat menggunakan informasi skewness untuk menentukan produk mana yang perlu diperbaiki. Anda dapat fokus pada produk dengan rating yang bagus (>4.8) karena produk tersebut memiliki potensi lebih mudah untuk meningkatkan lagi reputasi pada brang/toko.\n",
    "\n",
    "- Agar bisa tetap bersaing dan kompetitif dengan brand/toko lain, jangan menetapkan harga produk terlalu mahal karena jika melewati rentang harga yang telah dianalisa, kemungkinan produk sulit laku (jika terlalu murah calon pembeli mungkin ragu akan kualitasnya, sedangakan jika terlalu mahal calon pembeli sebisa mungkin mencari harga yang paling 'worth to value')"
   ]
  },
  {
   "cell_type": "markdown",
   "metadata": {},
   "source": [
    "## Summary"
   ]
  },
  {
   "cell_type": "markdown",
   "metadata": {},
   "source": [
    "Setelah dilakukan analisa mendalam terhadap DataFrame yang tersedia, misalnya jika Anda ingin meluncurkan produk seblak baru, Anda dapat menggunakan informasi-informasi yang telah dianalisa sebelumnya agar pengambilan keputusan bisa lebih tepat dan mengetahui infromasi lainnya, seperti:\n",
    "\n",
    "- Harga produk seblak yang ingin dijual\n",
    "- Promosi apa saja yang perlu dilakukan\n",
    "- Cara meningkatkan pembeli seblak\n",
    "- Mengetahui karakter calon pembeli seblak, dsb."
   ]
  }
 ],
 "metadata": {
  "kernelspec": {
   "display_name": "base",
   "language": "python",
   "name": "python3"
  },
  "language_info": {
   "codemirror_mode": {
    "name": "ipython",
    "version": 3
   },
   "file_extension": ".py",
   "mimetype": "text/x-python",
   "name": "python",
   "nbconvert_exporter": "python",
   "pygments_lexer": "ipython3",
   "version": "3.12.2"
  }
 },
 "nbformat": 4,
 "nbformat_minor": 2
}
